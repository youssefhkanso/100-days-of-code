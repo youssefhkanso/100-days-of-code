{
 "metadata": {
  "language_info": {
   "codemirror_mode": {
    "name": "ipython",
    "version": 3
   },
   "file_extension": ".py",
   "mimetype": "text/x-python",
   "name": "python",
   "nbconvert_exporter": "python",
   "pygments_lexer": "ipython3",
   "version": "3.8.5-final"
  },
  "orig_nbformat": 2,
  "kernelspec": {
   "name": "python3",
   "display_name": "Python 3",
   "language": "python"
  }
 },
 "nbformat": 4,
 "nbformat_minor": 2,
 "cells": [
  {
   "source": [
    "# A simple Hangman game in Python"
   ],
   "cell_type": "markdown",
   "metadata": {}
  },
  {
   "source": [
    "This is part of #100DaysofCodeChallenge - Day 1\n",
    "The idea of this game is very simple: You will pick a word and the end user must to say what word is it. He choose a letter and if this letter exists in the word, \"hide word\" is filled with these letter, if he missed 5 times he lose"
   ],
   "cell_type": "markdown",
   "metadata": {}
  },
  {
   "cell_type": "code",
   "execution_count": null,
   "metadata": {},
   "outputs": [],
   "source": [
    "import unidecode\n",
    "unaccented_string = unidecode.unidecode(accented_string)"
   ]
  },
  {
   "cell_type": "code",
   "execution_count": 17,
   "metadata": {},
   "outputs": [],
   "source": [
    "import random"
   ]
  },
  {
   "source": [
    "Firstly, let's pass a list of words that will randomly be picked by our random function and split it into letters"
   ],
   "cell_type": "markdown",
   "metadata": {}
  },
  {
   "cell_type": "code",
   "execution_count": 21,
   "metadata": {},
   "outputs": [
    {
     "output_type": "execute_result",
     "data": {
      "text/plain": [
       "['p', 'e', 'a', 'c', 'e']"
      ]
     },
     "metadata": {},
     "execution_count": 21
    }
   ],
   "source": [
    "lstofwords = ['house', 'game', 'notebook','yellow','television','peace']\n",
    "randomword = random.choice(lstofwords)\n",
    "splitingword = list(randomword)\n",
    "splitingword"
   ]
  },
  {
   "source": [
    "Now, the idea is to create an envoirment that the user will be able to interact and will choose a letter"
   ],
   "cell_type": "markdown",
   "metadata": {}
  },
  {
   "cell_type": "code",
   "execution_count": 36,
   "metadata": {},
   "outputs": [
    {
     "output_type": "stream",
     "name": "stdout",
     "text": [
      "Wrong choice, you have only more 4 chance(s)\n",
      "Wrong choice, you have only more 3 chance(s)\n",
      "You got it!\n",
      "Wrong choice, you have only more 2 chance(s)\n",
      "Wrong choice, you have only more 1 chance(s)\n",
      "You got it!\n",
      "You got it!\n",
      "You got it!\n",
      "Wrong choice, you have only more 0 chance(s)\n",
      "You lost the gamey\n"
     ]
    }
   ],
   "source": [
    "i=0\n",
    "while i < 5:\n",
    "    letter = input('Choose a letter: ')\n",
    "    if letter in splitingword:\n",
    "        print('You got it!')\n",
    "    else:\n",
    "        i=i+1\n",
    "        print('Wrong choice, you have only more '+ str(5-i) +' chance(s)')\n",
    "    \n",
    "print('You lost the game')"
   ]
  },
  {
   "cell_type": "code",
   "execution_count": null,
   "metadata": {},
   "outputs": [],
   "source": []
  }
 ]
}