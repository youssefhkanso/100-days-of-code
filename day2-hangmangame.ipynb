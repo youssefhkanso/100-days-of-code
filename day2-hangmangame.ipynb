{
  "nbformat": 4,
  "nbformat_minor": 0,
  "metadata": {
    "colab": {
      "name": "Untitled14.ipynb",
      "provenance": []
    },
    "kernelspec": {
      "name": "python3",
      "display_name": "Python 3"
    }
  },
  "cells": [
    {
      "cell_type": "code",
      "metadata": {
        "id": "iCWMSOBqMdN8"
      },
      "source": [
        "# A simple Hangman game in Python"
      ],
      "execution_count": 1,
      "outputs": []
    },
    {
      "cell_type": "code",
      "metadata": {
        "id": "cWeh-QibQvAY"
      },
      "source": [
        "import random"
      ],
      "execution_count": 3,
      "outputs": []
    },
    {
      "cell_type": "code",
      "metadata": {
        "colab": {
          "base_uri": "https://localhost:8080/"
        },
        "id": "H17745msQw0D",
        "outputId": "98cffa6c-6300-4ffd-eab4-42ee6d27e87e"
      },
      "source": [
        "lstofwords = ['house', 'game', 'notebook','yellow','television','peace']\r\n",
        "randomword = random.choice(lstofwords)\r\n",
        "splitingword = list(randomword)\r\n",
        "splitingword\r\n",
        "hideword = []\r\n",
        "for i in range(len(splitingword)):\r\n",
        "    hideword.append('_')\r\n",
        "hideword"
      ],
      "execution_count": 4,
      "outputs": [
        {
          "output_type": "execute_result",
          "data": {
            "text/plain": [
              "['_', '_', '_', '_', '_']"
            ]
          },
          "metadata": {
            "tags": []
          },
          "execution_count": 4
        }
      ]
    },
    {
      "cell_type": "code",
      "metadata": {
        "colab": {
          "base_uri": "https://localhost:8080/"
        },
        "id": "mAO3i163Q3XI",
        "outputId": "e4759a40-306c-46cb-db3f-2f9a63e52060"
      },
      "source": [
        "i=0\r\n",
        "while i < 5:\r\n",
        "    letter = input('Choose a letter: ')\r\n",
        "    if letter in splitingword:\r\n",
        "      allindex = [k for k, j in enumerate(splitingword) if j == letter]\r\n",
        "      for l in range(len(allindex)):\r\n",
        "        hideword[allindex[l]] = letter\r\n",
        "    else:\r\n",
        "        i=i+1\r\n",
        "        print('Wrong choice, you have only more '+ str(5-i) +' chance(s)')\r\n",
        "    print(hideword)\r\n",
        "    yesorno = input('Do you want to guess the word?(yes/no)')\r\n",
        "    if yesorno == 'yes':\r\n",
        "        guess = input('Write your guess: ')\r\n",
        "        if list(guess) == splitingword:\r\n",
        "          print('Congratulations! You won')\r\n",
        "          break \r\n",
        "        else: \r\n",
        "          print('You lost, the right awnser was: ' + randomword)\r\n",
        "           \r\n",
        "print('You lost the game, the word was: ' + randomword)"
      ],
      "execution_count": 5,
      "outputs": [
        {
          "output_type": "stream",
          "text": [
            "Choose a letter: a\n",
            "['_', '_', 'a', '_', '_']\n",
            "Do you want to guess the word?(yes/no)no\n",
            "Choose a letter: k\n",
            "Wrong choice, you have only more 4 chance(s)\n",
            "['_', '_', 'a', '_', '_']\n",
            "Do you want to guess the word?(yes/no)no\n",
            "Choose a letter: e\n",
            "['_', 'e', 'a', '_', 'e']\n",
            "Do you want to guess the word?(yes/no)no\n",
            "Choose a letter: b\n",
            "Wrong choice, you have only more 3 chance(s)\n",
            "['_', 'e', 'a', '_', 'e']\n",
            "Do you want to guess the word?(yes/no)no\n",
            "Choose a letter: p\n",
            "['p', 'e', 'a', '_', 'e']\n",
            "Do you want to guess the word?(yes/no)yes\n",
            "Write your guess: peace\n",
            "Congratulations! You won\n",
            "You lost the game, the word was: peace\n"
          ],
          "name": "stdout"
        }
      ]
    }
  ]
}